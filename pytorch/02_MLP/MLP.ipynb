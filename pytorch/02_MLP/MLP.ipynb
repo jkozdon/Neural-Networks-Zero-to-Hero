{
 "cells": [
  {
   "cell_type": "code",
   "execution_count": 5,
   "id": "09cda108-9cd0-4b85-b26a-be96fd3a18f4",
   "metadata": {},
   "outputs": [],
   "source": [
    "import torch\n",
    "import torch.nn.functional as F\n",
    "import matplotlib.pyplot as plt\n",
    "%matplotlib inline"
   ]
  },
  {
   "cell_type": "code",
   "execution_count": 6,
   "id": "abbe7d50-e64a-4587-be9a-df0a540cb6fd",
   "metadata": {},
   "outputs": [],
   "source": [
    "words = open('../../names.txt', 'r').read().splitlines()\n",
    "chars = sorted(list(set(''.join(words))))\n",
    "stoi = {s:i+1 for i,s in enumerate(chars)}\n",
    "stoi['.'] = 0\n",
    "itos = {i:s for s,i in stoi.items()}"
   ]
  },
  {
   "cell_type": "code",
   "execution_count": 156,
   "id": "0d577f94-9937-4b3c-8929-bf9030addc11",
   "metadata": {},
   "outputs": [],
   "source": [
    "# split data set into blocks\n",
    "\n",
    "block_size = 3\n",
    "space_size = 5\n",
    "num_neurons = 100\n",
    "batch_size = 64\n",
    "\n",
    "X, Y = [], []\n",
    "for w in words:\n",
    "    context = block_size * [0]\n",
    "    for c in w + '.':\n",
    "        X.append(context)\n",
    "        ix = stoi[c]\n",
    "        Y.append(ix)\n",
    "        context = context[1:] + [ix]\n",
    "X = torch.tensor(X)\n",
    "Y = torch.tensor(Y)"
   ]
  },
  {
   "cell_type": "code",
   "execution_count": 157,
   "id": "3f1cc5be-c976-45ab-9724-8a3dbc71ab52",
   "metadata": {},
   "outputs": [],
   "source": [
    "g = torch.Generator().manual_seed(2147483647)\n",
    "C = torch.randn((len(stoi), space_size), generator=g)\n",
    "W1 = torch.randn((space_size * block_size, num_neurons), generator=g)\n",
    "b1 = torch.randn(num_neurons, generator=g)\n",
    "W3 = torch.randn((space_size * block_size, num_neurons), generator=g)\n",
    "b3 = torch.randn(num_neurons, generator=g)\n",
    "W2 = torch.randn((num_neurons, len(stoi)), generator=g)\n",
    "b2 = torch.randn(len(stoi), generator=g)\n",
    "parameters = [C, W1, b1, W2, b2]\n",
    "for p in parameters:\n",
    "    p.requires_grad = True"
   ]
  },
  {
   "cell_type": "code",
   "execution_count": 171,
   "id": "3f223d43-c8ed-41e8-8dd3-a2555996d147",
   "metadata": {},
   "outputs": [
    {
     "name": "stdout",
     "output_type": "stream",
     "text": [
      "2.1752820014953613\n"
     ]
    }
   ],
   "source": [
    "step = 0.1/2\n",
    "for _ in range(2000):\n",
    "    ix = torch.randint(0, X.shape[0], (batch_size,))\n",
    "    # Forward model\n",
    "    emb = C[X[ix]]\n",
    "    h1 = torch.tanh(emb.view(-1, space_size * block_size) @ W1 + b1)\n",
    "    h2 = (h1) @ W2 + b2\n",
    "    # counts = h2.exp()\n",
    "    # P = counts / counts.sum(1, keepdims=True)\n",
    "    # l1 = P[torch.arange(Y.shape[0]), Y]\n",
    "    # loss = -l1.log().mean()\n",
    "    loss = F.cross_entropy(h2, Y[ix])\n",
    "    # update model\n",
    "    for p in parameters:\n",
    "        p.grad = None\n",
    "    loss.backward()\n",
    "    for p in parameters:\n",
    "        p.data += -step * p.grad\n",
    "print(loss.item())"
   ]
  },
  {
   "cell_type": "code",
   "execution_count": 172,
   "id": "4920272b-0648-454c-945b-8eadbfd7926e",
   "metadata": {},
   "outputs": [
    {
     "name": "stdout",
     "output_type": "stream",
     "text": [
      "laan.\n",
      "tara.\n",
      "jorata.\n",
      "kaylonny.\n",
      "ghzau.\n",
      "haalee.\n",
      "mahdatza.\n",
      "tah.\n",
      "jazhiyda.\n",
      "sadyondie.\n",
      "kauroa.\n",
      "seclyzanxa.\n",
      "eme.\n",
      "jarawhane.\n",
      "lein.\n",
      "dran.\n",
      "ava.\n",
      "japmede.\n",
      "naverlae.\n",
      "lei.\n"
     ]
    }
   ],
   "source": [
    "# generate samples:\n",
    "for _ in range(20):\n",
    "    context = block_size * [0]\n",
    "    output = []\n",
    "    while True:\n",
    "        emb = C[torch.tensor([context])]\n",
    "        h1 = torch.tanh(emb.view(-1, space_size * block_size) @ W1 + b1)\n",
    "        h2 = (h1) @ W2 + b2\n",
    "\n",
    "        P = F.softmax(h2, dim = 1)\n",
    "        ix = torch.multinomial(P,\n",
    "                               num_samples=1,\n",
    "                               generator=g).item()\n",
    "        output.append(ix)\n",
    "        context = context[1:] + [ix]\n",
    "        if ix == 0:\n",
    "            break\n",
    "    print(''.join(itos[ix] for ix in output))"
   ]
  },
  {
   "cell_type": "code",
   "execution_count": null,
   "id": "47f7c04c-0338-4a28-bc64-b83edfe61913",
   "metadata": {},
   "outputs": [],
   "source": []
  }
 ],
 "metadata": {
  "kernelspec": {
   "display_name": "Python 3 (ipykernel)",
   "language": "python",
   "name": "python3"
  },
  "language_info": {
   "codemirror_mode": {
    "name": "ipython",
    "version": 3
   },
   "file_extension": ".py",
   "mimetype": "text/x-python",
   "name": "python",
   "nbconvert_exporter": "python",
   "pygments_lexer": "ipython3",
   "version": "3.12.3"
  }
 },
 "nbformat": 4,
 "nbformat_minor": 5
}
