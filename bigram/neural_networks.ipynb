{
 "cells": [
  {
   "cell_type": "code",
   "execution_count": 1,
   "id": "94987e27-2782-4253-a67c-76acc2304155",
   "metadata": {},
   "outputs": [],
   "source": [
    "words = open('../names.txt', 'r').read().splitlines()\n",
    "chars = sorted(list(set(''.join(words))))\n",
    "stoi = {s:i+1 for i,s in enumerate(chars)}\n",
    "stoi['.'] = 0\n",
    "itos = {i:s for s,i in stoi.items()}"
   ]
  },
  {
   "cell_type": "code",
   "execution_count": 96,
   "id": "9f7c666e-fc8d-4a9b-8493-28169f3ed80b",
   "metadata": {},
   "outputs": [],
   "source": [
    "import torch\n",
    "import torch.nn.functional as F\n",
    "\n",
    "# create the training set of bigrams (x,y)\n",
    "xs, ys = [], [] # inputs and labels\n",
    "\n",
    "for w in words:\n",
    "    chs = ['.'] + list(w) + ['.']\n",
    "    for ch1, ch2 in zip(chs, chs[1:]):\n",
    "        xs.append(stoi[ch1])\n",
    "        ys.append(stoi[ch2])\n",
    "\n",
    "# tensor keeps \n",
    "xs = torch.tensor(xs)\n",
    "ys = torch.tensor(ys)\n",
    "num = xs.nelement()\n",
    "\n",
    "# Instead of integers we want vector with 1 at the location\n",
    "xenc = F.one_hot(xs, num_classes=27).float()\n",
    "\n",
    "g = torch.Generator().manual_seed(2147483647)\n",
    "# 27 Neurons with 27 possible inputs\n",
    "W = torch.randn((27,27), generator=g, requires_grad=True)"
   ]
  },
  {
   "cell_type": "code",
   "execution_count": 101,
   "id": "71c78bd8-02b3-49eb-9312-b9d8dbb24464",
   "metadata": {},
   "outputs": [
    {
     "name": "stdout",
     "output_type": "stream",
     "text": [
      "2.481607437133789\n"
     ]
    }
   ],
   "source": [
    "# gradient descent\n",
    "for k in range(100):\n",
    "    # Forward Pass\n",
    "    # evaluate the neural networks\n",
    "    logits = xenc @ W\n",
    "    \n",
    "    # Softmax: exponential and normalize\n",
    "    # make values positive counts\n",
    "    counts = logits.exp()\n",
    "    # turn into probablilites\n",
    "    probs = counts / counts.sum(1, keepdims=True)\n",
    "\n",
    "    # Negative log likelihood plus regularization which pulls W to zero\n",
    "    loss = -probs[torch.arange(num), ys].log().mean() + 0.01*(W**2).mean()\n",
    "    \n",
    "    #backward pass\n",
    "    W.grad = None # set gradient to zero\n",
    "    loss.backward()\n",
    "\n",
    "    #update\n",
    "    W.data += -50 * W.grad\n",
    "\n",
    "print(loss.item())"
   ]
  },
  {
   "cell_type": "code",
   "execution_count": 105,
   "id": "3e4079ed-d42b-459f-a80a-752fd104a8ff",
   "metadata": {},
   "outputs": [
    {
     "name": "stdout",
     "output_type": "stream",
     "text": [
      "cexze.\n",
      "momasurailezityha.\n",
      "konimittain.\n",
      "llayn.\n",
      "ka.\n"
     ]
    }
   ],
   "source": [
    "g = torch.Generator().manual_seed(2147483647)\n",
    "\n",
    "for i in range(5):\n",
    "    out = []\n",
    "    ix = 0\n",
    "    while True:\n",
    "        xenc = F.one_hot(torch.tensor([ix]), num_classes=27).float()\n",
    "        # predict log-counts\n",
    "        logits = xenc @ W\n",
    "        # counts\n",
    "        counts = logits.exp()\n",
    "        # probability of next character\n",
    "        p = counts / counts.sum(1, keepdims=True) \n",
    "        ix = torch.multinomial(p,\n",
    "                               num_samples=1,\n",
    "                               replacement=True,\n",
    "                               generator=g).item()\n",
    "        out.append(itos[ix])\n",
    "        if ix == 0:\n",
    "            break\n",
    "    print(''.join(out))"
   ]
  },
  {
   "cell_type": "code",
   "execution_count": null,
   "id": "5cd841d6-b3cf-4132-97e4-8b868439ad10",
   "metadata": {},
   "outputs": [],
   "source": []
  }
 ],
 "metadata": {
  "kernelspec": {
   "display_name": "Python 3 (ipykernel)",
   "language": "python",
   "name": "python3"
  },
  "language_info": {
   "codemirror_mode": {
    "name": "ipython",
    "version": 3
   },
   "file_extension": ".py",
   "mimetype": "text/x-python",
   "name": "python",
   "nbconvert_exporter": "python",
   "pygments_lexer": "ipython3",
   "version": "3.12.3"
  }
 },
 "nbformat": 4,
 "nbformat_minor": 5
}
